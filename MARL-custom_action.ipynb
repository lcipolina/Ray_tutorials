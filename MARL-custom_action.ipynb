{
  "nbformat": 4,
  "nbformat_minor": 0,
  "metadata": {
    "colab": {
      "provenance": [],
      "include_colab_link": true
    },
    "kernelspec": {
      "name": "python3",
      "display_name": "Python 3"
    },
    "language_info": {
      "name": "python"
    }
  },
  "cells": [
    {
      "cell_type": "markdown",
      "metadata": {
        "id": "view-in-github",
        "colab_type": "text"
      },
      "source": [
        "<a href=\"https://colab.research.google.com/github/lcipolina/Ray_tutorials/blob/main/MARL-custom_action.ipynb\" target=\"_parent\"><img src=\"https://colab.research.google.com/assets/colab-badge.svg\" alt=\"Open In Colab\"/></a>"
      ]
    },
    {
      "cell_type": "code",
      "execution_count": null,
      "metadata": {
        "id": "0TR6E-g3XrwK"
      },
      "outputs": [],
      "source": [
        "!pip install \"ray[rllib,tune]\" gym"
      ]
    },
    {
      "cell_type": "code",
      "source": [
        "import os\n",
        "import numpy as np\n",
        "import ray\n",
        "from ray.rllib.env import MultiAgentEnv\n",
        "from gym.spaces import MultiDiscrete\n",
        "from ray import air, tune\n",
        "from ray.rllib.algorithms.ppo import PPOConfig\n",
        "from ray.rllib.utils.spaces.simplex import Simplex                                 # for the Dirichlet action space //# Simplex -> Dirichlet.\n",
        "from ray.rllib.models.torch.torch_action_dist import TorchDirichlet as Dirichlet   # the dirichlet action-definition wrapper\n",
        "from ray.rllib.models import ModelCatalog                                          #  we need to register the new action space\n"
      ],
      "metadata": {
        "id": "1YL2D4FJX8BC"
      },
      "execution_count": null,
      "outputs": []
    },
    {
      "cell_type": "code",
      "source": [
        "# Define custom env\n",
        "class SimpleEnv(MultiAgentEnv):\n",
        "\n",
        "    def __init__(self, config=None):\n",
        "        super().__init__()\n",
        "        self.num_agents              = 2\n",
        "        self.steps                   = 0\n",
        "        self.agent_lst               = list(range(self.num_agents))\n",
        "        self._agent_ids              = set(self.agent_lst)\n",
        "        self.dones_dict              = {agent: False for agent in self.agent_lst}\n",
        "        self.dones_dict['__all__']   = False\n",
        "        self.observation_space       = Simplex((self.num_agents,)) \n",
        "        self.action_space            = self.observation_space\n",
        "\n",
        "        \n",
        "    def reset(self):\n",
        "        return {0: self.observation_space.sample()}  # {agent:obs}\n",
        "\n",
        "\n",
        "    def step(self, action_dict):\n",
        "        return {1:self.observation_space.sample()}, {1:0}, self.dones_dict, {} #{agent:obs}, {agent:rews}, dones, info"
      ],
      "metadata": {
        "id": "O1lxQ72ydAUM"
      },
      "execution_count": 2,
      "outputs": []
    },
    {
      "cell_type": "code",
      "source": [
        "# Register custom environment and action_space\n",
        "env_name = 'SimpleEnv'\n",
        "tune.register_env(env_name, lambda env_ctx: SimpleEnv()) #the register_env needs a callable/iterable\n",
        "ModelCatalog.register_custom_action_dist(\"Dirichlet\", Dirichlet)  #uses the imported one. Name string will be passed to Config dict"
      ],
      "metadata": {
        "id": "UhMpRPmJixyw"
      },
      "execution_count": 3,
      "outputs": []
    },
    {
      "cell_type": "code",
      "source": [
        "#RLLIB config experiment \n",
        "\n",
        "NUM_CPUS = os.cpu_count()\n",
        "train_steps = 1\n",
        "\n",
        "\n",
        "config = PPOConfig()\\\n",
        "    .framework(\"torch\")\\\n",
        "    .rollouts(num_rollout_workers=1, )\\\n",
        "    .resources(num_gpus=0,num_cpus_per_worker=1)\\\n",
        "    .evaluation(evaluation_interval=2,evaluation_duration = 2, evaluation_duration_unit='episodes',\n",
        "                evaluation_config= {\"explore\": False})\\\n",
        "    .environment(env = 'SimpleEnv', env_config={\n",
        "                                     \"num_workers\": NUM_CPUS - 1,\n",
        "                                     \"disable_env_checking\":True} #env_config: arguments passed to the Env + num_workers = # number of parallel workers\n",
        "\n",
        "                 )\\\n",
        "    .training(model = {\"custom_action_dist\": \"Dirichlet\"})"
      ],
      "metadata": {
        "id": "I1B81Xyki0fx"
      },
      "execution_count": 4,
      "outputs": []
    },
    {
      "cell_type": "code",
      "source": [
        "# RLLIB Train\n",
        "\n",
        "if ray.is_initialized(): ray.shutdown()\n",
        "ray.init(local_mode=True,include_dashboard=False, ignore_reinit_error=True,) #If dashboard True, prints the dashboard running on a local port\n",
        "\n",
        "train_steps = 1\n",
        "stop_timesteps = 3\n",
        "stop_iters = 3\n",
        "stop_dict = {\n",
        "        \"timesteps_total\": stop_timesteps,\n",
        "        \"training_iteration\": stop_iters,\n",
        "    }\n",
        "\n",
        "experiment_name = 'test'\n",
        "tuner = tune.Tuner(\"PPO\", param_space=config,\n",
        "                              run_config=air.RunConfig(\n",
        "                                        name =  experiment_name,\n",
        "                                        stop = stop_dict,\n",
        "                                )\n",
        "                                  )\n",
        "results = tuner.fit()\n",
        "ray.shutdown()"
      ],
      "metadata": {
        "id": "Xp7Eib-Vi3Hh",
        "outputId": "41ac5cf5-811d-4546-a9e6-79a1fa8fec45",
        "colab": {
          "base_uri": "https://localhost:8080/",
          "height": 1000
        }
      },
      "execution_count": 5,
      "outputs": [
        {
          "output_type": "stream",
          "name": "stderr",
          "text": [
            "/usr/local/lib/python3.9/dist-packages/ray/_private/client_mode_hook.py:105: DeprecationWarning: DeprecationWarning: local mode is an experimental feature that is no longer maintained and will be removed in the future.For debugging consider using Ray debugger. \n",
            "  return func(*args, **kwargs)\n",
            "2023-04-10 14:45:43,221\tINFO worker.py:1553 -- Started a local Ray instance.\n"
          ]
        },
        {
          "output_type": "display_data",
          "data": {
            "text/plain": [
              "<IPython.core.display.HTML object>"
            ],
            "text/html": []
          },
          "metadata": {}
        },
        {
          "output_type": "stream",
          "name": "stderr",
          "text": [
            ":job_id:01000000\n",
            "2023-04-10 14:45:46,884\tWARNING worker.py:846 -- `ray.get_gpu_ids()` will always return the empty list when called from the driver. This is because Ray does not manage GPU allocations to the driver process.\n",
            ":task_name:bundle_reservation_check_func\n",
            ":actor_name:PPO\n",
            "2023-04-10 14:45:47,020\tWARNING algorithm_config.py:596 -- Cannot create PPOConfig from given `config_dict`! Property __stdout_file__ not supported.\n",
            "2023-04-10 14:45:47,031\tINFO algorithm.py:506 -- Current log_level is WARN. For more information, set 'log_level': 'INFO' / 'DEBUG' or use the -v and -vv flags.\n"
          ]
        },
        {
          "output_type": "stream",
          "name": "stdout",
          "text": [
            ":job_id:01000000\n",
            ":task_name:bundle_reservation_check_func\n",
            ":actor_name:PPO\n"
          ]
        },
        {
          "output_type": "stream",
          "name": "stderr",
          "text": [
            ":actor_name:RolloutWorker\n",
            "2023-04-10 14:45:47,186\tWARNING env.py:296 -- Your MultiAgentEnv <SimpleEnv instance> does not have some or all of the needed base-class attributes! Make sure you call `super().__init__()` from within your MutiAgentEnv's constructor. This will raise an error in the future.\n"
          ]
        },
        {
          "output_type": "stream",
          "name": "stdout",
          "text": [
            ":actor_name:RolloutWorker\n"
          ]
        },
        {
          "output_type": "stream",
          "name": "stderr",
          "text": [
            "/usr/local/lib/python3.9/dist-packages/ray/rllib/models/torch/torch_action_dist.py:625: UserWarning: Implicit dimension choice for softmax has been deprecated. Change the call to include dim=X as an argument.\n",
            "  self.last_sample = nn.functional.softmax(self.dist.concentration)\n",
            "2023-04-10 14:45:47,452\tERROR actor.py:968 -- Exception raised in creation task: The actor died because of an error raised in its creation task, \u001b[36mray::RolloutWorker.__init__()\u001b[39m (pid=544, ip=172.28.0.12, repr=<ray.rllib.evaluation.rollout_worker._modify_class.<locals>.Class object at 0x7f22b11acc70>)\n",
            "  File \"/usr/local/lib/python3.9/dist-packages/ray/rllib/evaluation/rollout_worker.py\", line 737, in __init__\n",
            "    self._build_policy_map(policy_dict=self.policy_dict)\n",
            "  File \"/usr/local/lib/python3.9/dist-packages/ray/rllib/evaluation/rollout_worker.py\", line 1984, in _build_policy_map\n",
            "    new_policy = create_policy_for_framework(\n",
            "  File \"/usr/local/lib/python3.9/dist-packages/ray/rllib/utils/policy.py\", line 139, in create_policy_for_framework\n",
            "    return policy_class(observation_space, action_space, merged_config)\n",
            "  File \"/usr/local/lib/python3.9/dist-packages/ray/rllib/algorithms/ppo/ppo_torch_policy.py\", line 67, in __init__\n",
            "    self._initialize_loss_from_dummy_batch()\n",
            "  File \"/usr/local/lib/python3.9/dist-packages/ray/rllib/policy/policy.py\", line 1406, in _initialize_loss_from_dummy_batch\n",
            "    self.loss(self.model, self.dist_class, train_batch)\n",
            "  File \"/usr/local/lib/python3.9/dist-packages/ray/rllib/algorithms/ppo/ppo_torch_policy.py\", line 121, in loss\n",
            "    action_kl = prev_action_dist.kl(curr_action_dist)\n",
            "  File \"/usr/local/lib/python3.9/dist-packages/ray/rllib/models/torch/torch_action_dist.py\", line 643, in kl\n",
            "    return self.dist.kl_divergence(other.dist)\n",
            "AttributeError: 'Dirichlet' object has no attribute 'kl_divergence'\n",
            "2023-04-10 14:45:47,471\tERROR actor_manager.py:496 -- Ray error, taking actor 1 out of service. \u001b[36mray::RolloutWorker.apply::Exiting()\u001b[39m (pid=544, ip=172.28.0.12, repr=<ray.rllib.evaluation.rollout_worker._modify_class.<locals>.Class object at 0x7f22b11acc70>)\n",
            "  File \"/usr/local/lib/python3.9/dist-packages/ray/rllib/utils/actor_manager.py\", line 183, in apply\n",
            "    raise e\n",
            "  File \"/usr/local/lib/python3.9/dist-packages/ray/rllib/utils/actor_manager.py\", line 174, in apply\n",
            "    return func(self, *args, **kwargs)\n",
            "  File \"/usr/local/lib/python3.9/dist-packages/ray/rllib/evaluation/worker_set.py\", line 609, in <lambda>\n",
            "    lambda w: w.assert_healthy()\n",
            "  File \"/usr/local/lib/python3.9/dist-packages/ray/rllib/evaluation/rollout_worker.py\", line 872, in assert_healthy\n",
            "    assert is_healthy, (\n",
            "AssertionError: RolloutWorker <ray.rllib.evaluation.rollout_worker._modify_class.<locals>.Class object at 0x7f22b11acc70> (idx=1; num_workers=1) not healthy!\n",
            "2023-04-10 14:45:47,479\tERROR actor.py:968 -- Exception raised in creation task: The actor died because of an error raised in its creation task, \u001b[36mray::PPO.__init__()\u001b[39m (pid=544, ip=172.28.0.12, repr=PPO)\n",
            "  File \"/usr/local/lib/python3.9/dist-packages/ray/rllib/algorithms/algorithm.py\", line 445, in __init__\n",
            "    super().__init__(\n",
            "  File \"/usr/local/lib/python3.9/dist-packages/ray/tune/trainable/trainable.py\", line 169, in __init__\n",
            "    self.setup(copy.deepcopy(self.config))\n",
            "  File \"/usr/local/lib/python3.9/dist-packages/ray/rllib/algorithms/algorithm.py\", line 571, in setup\n",
            "    self.workers = WorkerSet(\n",
            "  File \"/usr/local/lib/python3.9/dist-packages/ray/rllib/evaluation/worker_set.py\", line 170, in __init__\n",
            "    self._setup(\n",
            "  File \"/usr/local/lib/python3.9/dist-packages/ray/rllib/evaluation/worker_set.py\", line 240, in _setup\n",
            "    self.add_workers(\n",
            "  File \"/usr/local/lib/python3.9/dist-packages/ray/rllib/evaluation/worker_set.py\", line 614, in add_workers\n",
            "    raise result.get()\n",
            "ray.exceptions.RayTaskError(AssertionError): \u001b[36mray::RolloutWorker.apply::Exiting()\u001b[39m (pid=544, ip=172.28.0.12, repr=<ray.rllib.evaluation.rollout_worker._modify_class.<locals>.Class object at 0x7f22b11acc70>)\n",
            "  File \"/usr/local/lib/python3.9/dist-packages/ray/rllib/utils/actor_manager.py\", line 183, in apply\n",
            "    raise e\n",
            "  File \"/usr/local/lib/python3.9/dist-packages/ray/rllib/utils/actor_manager.py\", line 174, in apply\n",
            "    return func(self, *args, **kwargs)\n",
            "  File \"/usr/local/lib/python3.9/dist-packages/ray/rllib/evaluation/worker_set.py\", line 609, in <lambda>\n",
            "    lambda w: w.assert_healthy()\n",
            "  File \"/usr/local/lib/python3.9/dist-packages/ray/rllib/evaluation/rollout_worker.py\", line 872, in assert_healthy\n",
            "    assert is_healthy, (\n",
            "AssertionError: RolloutWorker <ray.rllib.evaluation.rollout_worker._modify_class.<locals>.Class object at 0x7f22b11acc70> (idx=1; num_workers=1) not healthy!\n",
            "2023-04-10 14:45:47,496\tWARNING util.py:244 -- The `start_trial` operation took 0.603 s, which may be a performance bottleneck.\n"
          ]
        },
        {
          "output_type": "error",
          "ename": "RayTaskError(AttributeError)",
          "evalue": "ignored",
          "traceback": [
            "\u001b[0;31m---------------------------------------------------------------------------\u001b[0m",
            "\u001b[0;31mRayTaskError(AttributeError)\u001b[0m              Traceback (most recent call last)",
            "\u001b[0;32m<ipython-input-5-a0e1f367db8e>\u001b[0m in \u001b[0;36m<cell line: 21>\u001b[0;34m()\u001b[0m\n\u001b[1;32m     19\u001b[0m                                 )\n\u001b[1;32m     20\u001b[0m                                   )\n\u001b[0;32m---> 21\u001b[0;31m \u001b[0mresults\u001b[0m \u001b[0;34m=\u001b[0m \u001b[0mtuner\u001b[0m\u001b[0;34m.\u001b[0m\u001b[0mfit\u001b[0m\u001b[0;34m(\u001b[0m\u001b[0;34m)\u001b[0m\u001b[0;34m\u001b[0m\u001b[0;34m\u001b[0m\u001b[0m\n\u001b[0m\u001b[1;32m     22\u001b[0m \u001b[0mray\u001b[0m\u001b[0;34m.\u001b[0m\u001b[0mshutdown\u001b[0m\u001b[0;34m(\u001b[0m\u001b[0;34m)\u001b[0m\u001b[0;34m\u001b[0m\u001b[0;34m\u001b[0m\u001b[0m\n",
            "\u001b[0;32m/usr/local/lib/python3.9/dist-packages/ray/tune/tuner.py\u001b[0m in \u001b[0;36mfit\u001b[0;34m(self)\u001b[0m\n\u001b[1;32m    290\u001b[0m         \u001b[0;32mif\u001b[0m \u001b[0;32mnot\u001b[0m \u001b[0mself\u001b[0m\u001b[0;34m.\u001b[0m\u001b[0m_is_ray_client\u001b[0m\u001b[0;34m:\u001b[0m\u001b[0;34m\u001b[0m\u001b[0;34m\u001b[0m\u001b[0m\n\u001b[1;32m    291\u001b[0m             \u001b[0;32mtry\u001b[0m\u001b[0;34m:\u001b[0m\u001b[0;34m\u001b[0m\u001b[0;34m\u001b[0m\u001b[0m\n\u001b[0;32m--> 292\u001b[0;31m                 \u001b[0;32mreturn\u001b[0m \u001b[0mself\u001b[0m\u001b[0;34m.\u001b[0m\u001b[0m_local_tuner\u001b[0m\u001b[0;34m.\u001b[0m\u001b[0mfit\u001b[0m\u001b[0;34m(\u001b[0m\u001b[0;34m)\u001b[0m\u001b[0;34m\u001b[0m\u001b[0;34m\u001b[0m\u001b[0m\n\u001b[0m\u001b[1;32m    293\u001b[0m             \u001b[0;32mexcept\u001b[0m \u001b[0mTuneError\u001b[0m \u001b[0;32mas\u001b[0m \u001b[0me\u001b[0m\u001b[0;34m:\u001b[0m\u001b[0;34m\u001b[0m\u001b[0;34m\u001b[0m\u001b[0m\n\u001b[1;32m    294\u001b[0m                 raise TuneError(\n",
            "\u001b[0;32m/usr/local/lib/python3.9/dist-packages/ray/tune/impl/tuner_internal.py\u001b[0m in \u001b[0;36mfit\u001b[0;34m(self)\u001b[0m\n\u001b[1;32m    453\u001b[0m         \u001b[0;32mif\u001b[0m \u001b[0;32mnot\u001b[0m \u001b[0mself\u001b[0m\u001b[0;34m.\u001b[0m\u001b[0m_is_restored\u001b[0m\u001b[0;34m:\u001b[0m\u001b[0;34m\u001b[0m\u001b[0;34m\u001b[0m\u001b[0m\n\u001b[1;32m    454\u001b[0m             \u001b[0mparam_space\u001b[0m \u001b[0;34m=\u001b[0m \u001b[0mcopy\u001b[0m\u001b[0;34m.\u001b[0m\u001b[0mdeepcopy\u001b[0m\u001b[0;34m(\u001b[0m\u001b[0mself\u001b[0m\u001b[0;34m.\u001b[0m\u001b[0m_param_space\u001b[0m\u001b[0;34m)\u001b[0m\u001b[0;34m\u001b[0m\u001b[0;34m\u001b[0m\u001b[0m\n\u001b[0;32m--> 455\u001b[0;31m             \u001b[0manalysis\u001b[0m \u001b[0;34m=\u001b[0m \u001b[0mself\u001b[0m\u001b[0;34m.\u001b[0m\u001b[0m_fit_internal\u001b[0m\u001b[0;34m(\u001b[0m\u001b[0mtrainable\u001b[0m\u001b[0;34m,\u001b[0m \u001b[0mparam_space\u001b[0m\u001b[0;34m)\u001b[0m\u001b[0;34m\u001b[0m\u001b[0;34m\u001b[0m\u001b[0m\n\u001b[0m\u001b[1;32m    456\u001b[0m         \u001b[0;32melse\u001b[0m\u001b[0;34m:\u001b[0m\u001b[0;34m\u001b[0m\u001b[0;34m\u001b[0m\u001b[0m\n\u001b[1;32m    457\u001b[0m             \u001b[0manalysis\u001b[0m \u001b[0;34m=\u001b[0m \u001b[0mself\u001b[0m\u001b[0;34m.\u001b[0m\u001b[0m_fit_resume\u001b[0m\u001b[0;34m(\u001b[0m\u001b[0mtrainable\u001b[0m\u001b[0;34m)\u001b[0m\u001b[0;34m\u001b[0m\u001b[0;34m\u001b[0m\u001b[0m\n",
            "\u001b[0;32m/usr/local/lib/python3.9/dist-packages/ray/tune/impl/tuner_internal.py\u001b[0m in \u001b[0;36m_fit_internal\u001b[0;34m(self, trainable, param_space)\u001b[0m\n\u001b[1;32m    570\u001b[0m             \u001b[0;34m**\u001b[0m\u001b[0mself\u001b[0m\u001b[0;34m.\u001b[0m\u001b[0m_tuner_kwargs\u001b[0m\u001b[0;34m,\u001b[0m\u001b[0;34m\u001b[0m\u001b[0;34m\u001b[0m\u001b[0m\n\u001b[1;32m    571\u001b[0m         }\n\u001b[0;32m--> 572\u001b[0;31m         analysis = run(\n\u001b[0m\u001b[1;32m    573\u001b[0m             \u001b[0;34m**\u001b[0m\u001b[0margs\u001b[0m\u001b[0;34m,\u001b[0m\u001b[0;34m\u001b[0m\u001b[0;34m\u001b[0m\u001b[0m\n\u001b[1;32m    574\u001b[0m         )\n",
            "\u001b[0;32m/usr/local/lib/python3.9/dist-packages/ray/tune/tune.py\u001b[0m in \u001b[0;36mrun\u001b[0;34m(run_or_experiment, name, metric, mode, stop, time_budget_s, config, resources_per_trial, num_samples, local_dir, search_alg, scheduler, keep_checkpoints_num, checkpoint_score_attr, checkpoint_freq, checkpoint_at_end, verbose, progress_reporter, log_to_file, trial_name_creator, trial_dirname_creator, chdir_to_trial_dir, sync_config, export_formats, max_failures, fail_fast, restore, server_port, resume, reuse_actors, raise_on_failed_trial, callbacks, max_concurrent_trials, trial_executor, _experiment_checkpoint_dir, _remote, _remote_string_queue)\u001b[0m\n\u001b[1;32m    756\u001b[0m         \u001b[0mrunner\u001b[0m\u001b[0;34m.\u001b[0m\u001b[0mstep\u001b[0m\u001b[0;34m(\u001b[0m\u001b[0;34m)\u001b[0m\u001b[0;34m\u001b[0m\u001b[0;34m\u001b[0m\u001b[0m\n\u001b[1;32m    757\u001b[0m         \u001b[0;32mif\u001b[0m \u001b[0mhas_verbosity\u001b[0m\u001b[0;34m(\u001b[0m\u001b[0mVerbosity\u001b[0m\u001b[0;34m.\u001b[0m\u001b[0mV1_EXPERIMENT\u001b[0m\u001b[0;34m)\u001b[0m\u001b[0;34m:\u001b[0m\u001b[0;34m\u001b[0m\u001b[0;34m\u001b[0m\u001b[0m\n\u001b[0;32m--> 758\u001b[0;31m             \u001b[0m_report_progress\u001b[0m\u001b[0;34m(\u001b[0m\u001b[0mrunner\u001b[0m\u001b[0;34m,\u001b[0m \u001b[0mprogress_reporter\u001b[0m\u001b[0;34m)\u001b[0m\u001b[0;34m\u001b[0m\u001b[0;34m\u001b[0m\u001b[0m\n\u001b[0m\u001b[1;32m    759\u001b[0m     \u001b[0mtune_taken\u001b[0m \u001b[0;34m=\u001b[0m \u001b[0mtime\u001b[0m\u001b[0;34m.\u001b[0m\u001b[0mtime\u001b[0m\u001b[0;34m(\u001b[0m\u001b[0;34m)\u001b[0m \u001b[0;34m-\u001b[0m \u001b[0mtune_start\u001b[0m\u001b[0;34m\u001b[0m\u001b[0;34m\u001b[0m\u001b[0m\n\u001b[1;32m    760\u001b[0m \u001b[0;34m\u001b[0m\u001b[0m\n",
            "\u001b[0;32m/usr/local/lib/python3.9/dist-packages/ray/tune/tune.py\u001b[0m in \u001b[0;36m_report_progress\u001b[0;34m(runner, reporter, done)\u001b[0m\n\u001b[1;32m    136\u001b[0m         \u001b[0msched_debug_str\u001b[0m \u001b[0;34m=\u001b[0m \u001b[0mrunner\u001b[0m\u001b[0;34m.\u001b[0m\u001b[0mscheduler_alg\u001b[0m\u001b[0;34m.\u001b[0m\u001b[0mdebug_string\u001b[0m\u001b[0;34m(\u001b[0m\u001b[0;34m)\u001b[0m\u001b[0;34m\u001b[0m\u001b[0;34m\u001b[0m\u001b[0m\n\u001b[1;32m    137\u001b[0m         \u001b[0mexecutor_debug_str\u001b[0m \u001b[0;34m=\u001b[0m \u001b[0mrunner\u001b[0m\u001b[0;34m.\u001b[0m\u001b[0mtrial_executor\u001b[0m\u001b[0;34m.\u001b[0m\u001b[0mdebug_string\u001b[0m\u001b[0;34m(\u001b[0m\u001b[0;34m)\u001b[0m\u001b[0;34m\u001b[0m\u001b[0;34m\u001b[0m\u001b[0m\n\u001b[0;32m--> 138\u001b[0;31m         \u001b[0mreporter\u001b[0m\u001b[0;34m.\u001b[0m\u001b[0mreport\u001b[0m\u001b[0;34m(\u001b[0m\u001b[0mtrials\u001b[0m\u001b[0;34m,\u001b[0m \u001b[0mdone\u001b[0m\u001b[0;34m,\u001b[0m \u001b[0msched_debug_str\u001b[0m\u001b[0;34m,\u001b[0m \u001b[0mexecutor_debug_str\u001b[0m\u001b[0;34m)\u001b[0m\u001b[0;34m\u001b[0m\u001b[0;34m\u001b[0m\u001b[0m\n\u001b[0m\u001b[1;32m    139\u001b[0m \u001b[0;34m\u001b[0m\u001b[0m\n\u001b[1;32m    140\u001b[0m \u001b[0;34m\u001b[0m\u001b[0m\n",
            "\u001b[0;32m/usr/local/lib/python3.9/dist-packages/ray/tune/progress_reporter.py\u001b[0m in \u001b[0;36mreport\u001b[0;34m(self, trials, done, *sys_info)\u001b[0m\n\u001b[1;32m    553\u001b[0m \u001b[0;34m\u001b[0m\u001b[0m\n\u001b[1;32m    554\u001b[0m     \u001b[0;32mdef\u001b[0m \u001b[0mreport\u001b[0m\u001b[0;34m(\u001b[0m\u001b[0mself\u001b[0m\u001b[0;34m,\u001b[0m \u001b[0mtrials\u001b[0m\u001b[0;34m:\u001b[0m \u001b[0mList\u001b[0m\u001b[0;34m[\u001b[0m\u001b[0mTrial\u001b[0m\u001b[0;34m]\u001b[0m\u001b[0;34m,\u001b[0m \u001b[0mdone\u001b[0m\u001b[0;34m:\u001b[0m \u001b[0mbool\u001b[0m\u001b[0;34m,\u001b[0m \u001b[0;34m*\u001b[0m\u001b[0msys_info\u001b[0m\u001b[0;34m:\u001b[0m \u001b[0mDict\u001b[0m\u001b[0;34m)\u001b[0m\u001b[0;34m:\u001b[0m\u001b[0;34m\u001b[0m\u001b[0;34m\u001b[0m\u001b[0m\n\u001b[0;32m--> 555\u001b[0;31m         \u001b[0mprogress\u001b[0m \u001b[0;34m=\u001b[0m \u001b[0mself\u001b[0m\u001b[0;34m.\u001b[0m\u001b[0m_progress_html\u001b[0m\u001b[0;34m(\u001b[0m\u001b[0mtrials\u001b[0m\u001b[0;34m,\u001b[0m \u001b[0mdone\u001b[0m\u001b[0;34m,\u001b[0m \u001b[0;34m*\u001b[0m\u001b[0msys_info\u001b[0m\u001b[0;34m)\u001b[0m\u001b[0;34m\u001b[0m\u001b[0;34m\u001b[0m\u001b[0m\n\u001b[0m\u001b[1;32m    556\u001b[0m \u001b[0;34m\u001b[0m\u001b[0m\n\u001b[1;32m    557\u001b[0m         \u001b[0;32mif\u001b[0m \u001b[0mself\u001b[0m\u001b[0;34m.\u001b[0m\u001b[0moutput_queue\u001b[0m \u001b[0;32mis\u001b[0m \u001b[0;32mnot\u001b[0m \u001b[0;32mNone\u001b[0m\u001b[0;34m:\u001b[0m\u001b[0;34m\u001b[0m\u001b[0;34m\u001b[0m\u001b[0m\n",
            "\u001b[0;32m/usr/local/lib/python3.9/dist-packages/ray/tune/progress_reporter.py\u001b[0m in \u001b[0;36m_progress_html\u001b[0;34m(self, trials, done, *sys_info)\u001b[0m\n\u001b[1;32m    589\u001b[0m         \"\"\"\n\u001b[1;32m    590\u001b[0m         \u001b[0;32mif\u001b[0m \u001b[0;32mnot\u001b[0m \u001b[0mself\u001b[0m\u001b[0;34m.\u001b[0m\u001b[0m_metrics_override\u001b[0m\u001b[0;34m:\u001b[0m\u001b[0;34m\u001b[0m\u001b[0;34m\u001b[0m\u001b[0m\n\u001b[0;32m--> 591\u001b[0;31m             \u001b[0muser_metrics\u001b[0m \u001b[0;34m=\u001b[0m \u001b[0mself\u001b[0m\u001b[0;34m.\u001b[0m\u001b[0m_infer_user_metrics\u001b[0m\u001b[0;34m(\u001b[0m\u001b[0mtrials\u001b[0m\u001b[0;34m,\u001b[0m \u001b[0mself\u001b[0m\u001b[0;34m.\u001b[0m\u001b[0m_infer_limit\u001b[0m\u001b[0;34m)\u001b[0m\u001b[0;34m\u001b[0m\u001b[0;34m\u001b[0m\u001b[0m\n\u001b[0m\u001b[1;32m    592\u001b[0m             \u001b[0mself\u001b[0m\u001b[0;34m.\u001b[0m\u001b[0m_metric_columns\u001b[0m\u001b[0;34m.\u001b[0m\u001b[0mupdate\u001b[0m\u001b[0;34m(\u001b[0m\u001b[0muser_metrics\u001b[0m\u001b[0;34m)\u001b[0m\u001b[0;34m\u001b[0m\u001b[0;34m\u001b[0m\u001b[0m\n\u001b[1;32m    593\u001b[0m \u001b[0;34m\u001b[0m\u001b[0m\n",
            "\u001b[0;32m/usr/local/lib/python3.9/dist-packages/ray/tune/progress_reporter.py\u001b[0m in \u001b[0;36m_infer_user_metrics\u001b[0;34m(self, trials, limit)\u001b[0m\n\u001b[1;32m    401\u001b[0m         \u001b[0mself\u001b[0m\u001b[0;34m.\u001b[0m\u001b[0m_inferred_metrics\u001b[0m \u001b[0;34m=\u001b[0m \u001b[0;34m{\u001b[0m\u001b[0;34m}\u001b[0m\u001b[0;34m\u001b[0m\u001b[0;34m\u001b[0m\u001b[0m\n\u001b[1;32m    402\u001b[0m         \u001b[0;32mfor\u001b[0m \u001b[0mt\u001b[0m \u001b[0;32min\u001b[0m \u001b[0mtrials\u001b[0m\u001b[0;34m:\u001b[0m\u001b[0;34m\u001b[0m\u001b[0;34m\u001b[0m\u001b[0m\n\u001b[0;32m--> 403\u001b[0;31m             \u001b[0;32mif\u001b[0m \u001b[0;32mnot\u001b[0m \u001b[0mt\u001b[0m\u001b[0;34m.\u001b[0m\u001b[0mlast_result\u001b[0m\u001b[0;34m:\u001b[0m\u001b[0;34m\u001b[0m\u001b[0;34m\u001b[0m\u001b[0m\n\u001b[0m\u001b[1;32m    404\u001b[0m                 \u001b[0;32mcontinue\u001b[0m\u001b[0;34m\u001b[0m\u001b[0;34m\u001b[0m\u001b[0m\n\u001b[1;32m    405\u001b[0m             \u001b[0;32mfor\u001b[0m \u001b[0mmetric\u001b[0m\u001b[0;34m,\u001b[0m \u001b[0mvalue\u001b[0m \u001b[0;32min\u001b[0m \u001b[0mt\u001b[0m\u001b[0;34m.\u001b[0m\u001b[0mlast_result\u001b[0m\u001b[0;34m.\u001b[0m\u001b[0mitems\u001b[0m\u001b[0;34m(\u001b[0m\u001b[0;34m)\u001b[0m\u001b[0;34m:\u001b[0m\u001b[0;34m\u001b[0m\u001b[0;34m\u001b[0m\u001b[0m\n",
            "\u001b[0;32m/usr/local/lib/python3.9/dist-packages/ray/tune/experiment/trial.py\u001b[0m in \u001b[0;36mlast_result\u001b[0;34m(self)\u001b[0m\n\u001b[1;32m    453\u001b[0m         \u001b[0mresult\u001b[0m \u001b[0;34m=\u001b[0m \u001b[0mself\u001b[0m\u001b[0;34m.\u001b[0m\u001b[0m_last_result\u001b[0m\u001b[0;34m\u001b[0m\u001b[0;34m\u001b[0m\u001b[0m\n\u001b[1;32m    454\u001b[0m         \u001b[0;32mif\u001b[0m \u001b[0;32mnot\u001b[0m \u001b[0;34m{\u001b[0m\u001b[0mk\u001b[0m \u001b[0;32mfor\u001b[0m \u001b[0mk\u001b[0m \u001b[0;32min\u001b[0m \u001b[0mresult\u001b[0m \u001b[0;32mif\u001b[0m \u001b[0mk\u001b[0m \u001b[0;34m!=\u001b[0m \u001b[0mTRIAL_ID\u001b[0m\u001b[0;34m}\u001b[0m\u001b[0;34m:\u001b[0m\u001b[0;34m\u001b[0m\u001b[0;34m\u001b[0m\u001b[0m\n\u001b[0;32m--> 455\u001b[0;31m             \u001b[0mself\u001b[0m\u001b[0;34m.\u001b[0m\u001b[0m_get_default_result_or_future\u001b[0m\u001b[0;34m(\u001b[0m\u001b[0;34m)\u001b[0m\u001b[0;34m\u001b[0m\u001b[0;34m\u001b[0m\u001b[0m\n\u001b[0m\u001b[1;32m    456\u001b[0m             \u001b[0mresult\u001b[0m \u001b[0;34m=\u001b[0m \u001b[0mself\u001b[0m\u001b[0;34m.\u001b[0m\u001b[0m_default_result_or_future\u001b[0m \u001b[0;32mor\u001b[0m \u001b[0mresult\u001b[0m\u001b[0;34m\u001b[0m\u001b[0;34m\u001b[0m\u001b[0m\n\u001b[1;32m    457\u001b[0m         \u001b[0mresult\u001b[0m\u001b[0;34m.\u001b[0m\u001b[0msetdefault\u001b[0m\u001b[0;34m(\u001b[0m\u001b[0mTRIAL_ID\u001b[0m\u001b[0;34m,\u001b[0m \u001b[0mself\u001b[0m\u001b[0;34m.\u001b[0m\u001b[0mtrial_id\u001b[0m\u001b[0;34m)\u001b[0m\u001b[0;34m\u001b[0m\u001b[0;34m\u001b[0m\u001b[0m\n",
            "\u001b[0;32m/usr/local/lib/python3.9/dist-packages/ray/tune/experiment/trial.py\u001b[0m in \u001b[0;36m_get_default_result_or_future\u001b[0;34m(self)\u001b[0m\n\u001b[1;32m    428\u001b[0m         ):\n\u001b[1;32m    429\u001b[0m             \u001b[0;32mtry\u001b[0m\u001b[0;34m:\u001b[0m\u001b[0;34m\u001b[0m\u001b[0;34m\u001b[0m\u001b[0m\n\u001b[0;32m--> 430\u001b[0;31m                 \u001b[0mself\u001b[0m\u001b[0;34m.\u001b[0m\u001b[0m_default_result_or_future\u001b[0m \u001b[0;34m=\u001b[0m \u001b[0mray\u001b[0m\u001b[0;34m.\u001b[0m\u001b[0mget\u001b[0m\u001b[0;34m(\u001b[0m\u001b[0mself\u001b[0m\u001b[0;34m.\u001b[0m\u001b[0m_default_result_or_future\u001b[0m\u001b[0;34m)\u001b[0m\u001b[0;34m\u001b[0m\u001b[0;34m\u001b[0m\u001b[0m\n\u001b[0m\u001b[1;32m    431\u001b[0m             \u001b[0;32mexcept\u001b[0m \u001b[0mRayActorError\u001b[0m\u001b[0;34m:\u001b[0m  \u001b[0;31m# error during initialization\u001b[0m\u001b[0;34m\u001b[0m\u001b[0;34m\u001b[0m\u001b[0m\n\u001b[1;32m    432\u001b[0m                 \u001b[0mself\u001b[0m\u001b[0;34m.\u001b[0m\u001b[0m_default_result_or_future\u001b[0m \u001b[0;34m=\u001b[0m \u001b[0;32mNone\u001b[0m\u001b[0;34m\u001b[0m\u001b[0;34m\u001b[0m\u001b[0m\n",
            "\u001b[0;32m/usr/local/lib/python3.9/dist-packages/ray/_private/client_mode_hook.py\u001b[0m in \u001b[0;36mwrapper\u001b[0;34m(*args, **kwargs)\u001b[0m\n\u001b[1;32m    103\u001b[0m             \u001b[0;32mif\u001b[0m \u001b[0mfunc\u001b[0m\u001b[0;34m.\u001b[0m\u001b[0m__name__\u001b[0m \u001b[0;34m!=\u001b[0m \u001b[0;34m\"init\"\u001b[0m \u001b[0;32mor\u001b[0m \u001b[0mis_client_mode_enabled_by_default\u001b[0m\u001b[0;34m:\u001b[0m\u001b[0;34m\u001b[0m\u001b[0;34m\u001b[0m\u001b[0m\n\u001b[1;32m    104\u001b[0m                 \u001b[0;32mreturn\u001b[0m \u001b[0mgetattr\u001b[0m\u001b[0;34m(\u001b[0m\u001b[0mray\u001b[0m\u001b[0;34m,\u001b[0m \u001b[0mfunc\u001b[0m\u001b[0;34m.\u001b[0m\u001b[0m__name__\u001b[0m\u001b[0;34m)\u001b[0m\u001b[0;34m(\u001b[0m\u001b[0;34m*\u001b[0m\u001b[0margs\u001b[0m\u001b[0;34m,\u001b[0m \u001b[0;34m**\u001b[0m\u001b[0mkwargs\u001b[0m\u001b[0;34m)\u001b[0m\u001b[0;34m\u001b[0m\u001b[0;34m\u001b[0m\u001b[0m\n\u001b[0;32m--> 105\u001b[0;31m         \u001b[0;32mreturn\u001b[0m \u001b[0mfunc\u001b[0m\u001b[0;34m(\u001b[0m\u001b[0;34m*\u001b[0m\u001b[0margs\u001b[0m\u001b[0;34m,\u001b[0m \u001b[0;34m**\u001b[0m\u001b[0mkwargs\u001b[0m\u001b[0;34m)\u001b[0m\u001b[0;34m\u001b[0m\u001b[0;34m\u001b[0m\u001b[0m\n\u001b[0m\u001b[1;32m    106\u001b[0m \u001b[0;34m\u001b[0m\u001b[0m\n\u001b[1;32m    107\u001b[0m     \u001b[0;32mreturn\u001b[0m \u001b[0mwrapper\u001b[0m\u001b[0;34m\u001b[0m\u001b[0;34m\u001b[0m\u001b[0m\n",
            "\u001b[0;32m/usr/local/lib/python3.9/dist-packages/ray/_private/worker.py\u001b[0m in \u001b[0;36mget\u001b[0;34m(object_refs, timeout)\u001b[0m\n\u001b[1;32m   2378\u001b[0m                     \u001b[0mworker\u001b[0m\u001b[0;34m.\u001b[0m\u001b[0mcore_worker\u001b[0m\u001b[0;34m.\u001b[0m\u001b[0mdump_object_store_memory_usage\u001b[0m\u001b[0;34m(\u001b[0m\u001b[0;34m)\u001b[0m\u001b[0;34m\u001b[0m\u001b[0;34m\u001b[0m\u001b[0m\n\u001b[1;32m   2379\u001b[0m                 \u001b[0;32mif\u001b[0m \u001b[0misinstance\u001b[0m\u001b[0;34m(\u001b[0m\u001b[0mvalue\u001b[0m\u001b[0;34m,\u001b[0m \u001b[0mRayTaskError\u001b[0m\u001b[0;34m)\u001b[0m\u001b[0;34m:\u001b[0m\u001b[0;34m\u001b[0m\u001b[0;34m\u001b[0m\u001b[0m\n\u001b[0;32m-> 2380\u001b[0;31m                     \u001b[0;32mraise\u001b[0m \u001b[0mvalue\u001b[0m\u001b[0;34m.\u001b[0m\u001b[0mas_instanceof_cause\u001b[0m\u001b[0;34m(\u001b[0m\u001b[0;34m)\u001b[0m\u001b[0;34m\u001b[0m\u001b[0;34m\u001b[0m\u001b[0m\n\u001b[0m\u001b[1;32m   2381\u001b[0m                 \u001b[0;32melse\u001b[0m\u001b[0;34m:\u001b[0m\u001b[0;34m\u001b[0m\u001b[0;34m\u001b[0m\u001b[0m\n\u001b[1;32m   2382\u001b[0m                     \u001b[0;32mraise\u001b[0m \u001b[0mvalue\u001b[0m\u001b[0;34m\u001b[0m\u001b[0;34m\u001b[0m\u001b[0m\n",
            "\u001b[0;31mRayTaskError(AttributeError)\u001b[0m: \u001b[36mray::PPO.get_auto_filled_metrics::Exiting()\u001b[39m (pid=544, ip=172.28.0.12, repr=PPO)\n  File \"/usr/local/lib/python3.9/dist-packages/ray/rllib/algorithms/algorithm.py\", line 2335, in get_auto_filled_metrics\n    auto_filled = super().get_auto_filled_metrics(\n  File \"/usr/local/lib/python3.9/dist-packages/ray/tune/trainable/trainable.py\", line 267, in get_auto_filled_metrics\n    \"warmup_time\": self._warmup_time,\nAttributeError: 'PPO' object has no attribute '_warmup_time'"
          ]
        }
      ]
    },
    {
      "cell_type": "code",
      "source": [],
      "metadata": {
        "id": "sieEsKwSi3rK"
      },
      "execution_count": null,
      "outputs": []
    }
  ]
}